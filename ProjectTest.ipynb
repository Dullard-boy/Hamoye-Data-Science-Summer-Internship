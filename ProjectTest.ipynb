{
 "cells": [
  {
   "cell_type": "code",
   "execution_count": 21,
   "metadata": {},
   "outputs": [],
   "source": [
    "import pandas as pd\n",
    "data=pd.read_csv('C:/Users/good/Desktop/HDSC Internship/Premier Project/archive/cms_hospital_patient_satisfaction_2017.csv')"
   ]
  },
  {
   "cell_type": "code",
   "execution_count": 22,
   "metadata": {},
   "outputs": [],
   "source": [
    "del data['County Name']\n",
    "word1 = 'Footnote'\n",
    "word2 = 'footnote'\n",
    "\n",
    "for i in data.columns:\n",
    "    if word1 in i:\n",
    "        data.drop(i, axis = 1, inplace= True)\n",
    "    elif word2 in i:\n",
    "        data.drop(i, axis = 1, inplace= True)\n",
    "    else:\n",
    "        pass "
   ]
  },
  {
   "cell_type": "code",
   "execution_count": 23,
   "metadata": {},
   "outputs": [
    {
     "data": {
      "text/plain": [
       "Index(['Facility ID', 'Facility Name', 'Address', 'City', 'State', 'ZIP Code',\n",
       "       'Phone Number', 'HCAHPS Measure ID', 'HCAHPS Question',\n",
       "       'HCAHPS Answer Description', 'Patient Survey Star Rating',\n",
       "       'HCAHPS Answer Percent', 'HCAHPS Linear Mean Value',\n",
       "       'Number of Completed Surveys', 'Survey Response Rate Percent',\n",
       "       'Start Date', 'End Date', 'Year', 'Hospital Type', 'Hospital Ownership',\n",
       "       'Emergency Services',\n",
       "       'Meets criteria for promoting interoperability of EHRs',\n",
       "       'Hospital overall rating', 'Mortality national comparison',\n",
       "       'Safety of care national comparison', 'Readmission national comparison',\n",
       "       'Patient experience national comparison',\n",
       "       'Effectiveness of care national comparison',\n",
       "       'Timeliness of care national comparison',\n",
       "       'Efficient use of medical imaging national comparison'],\n",
       "      dtype='object')"
      ]
     },
     "execution_count": 23,
     "metadata": {},
     "output_type": "execute_result"
    }
   ],
   "source": [
    "data.columns"
   ]
  },
  {
   "cell_type": "code",
   "execution_count": 24,
   "metadata": {},
   "outputs": [
    {
     "data": {
      "text/plain": [
       "Y                256190\n",
       "Not Available       165\n",
       "Name: Meets criteria for promoting interoperability of EHRs, dtype: int64"
      ]
     },
     "execution_count": 24,
     "metadata": {},
     "output_type": "execute_result"
    }
   ],
   "source": [
    "data['Meets criteria for promoting interoperability of EHRs'].value_counts()"
   ]
  },
  {
   "cell_type": "code",
   "execution_count": 25,
   "metadata": {},
   "outputs": [],
   "source": [
    "grouped_data=data.groupby('Meets criteria for promoting interoperability of EHRs')\n",
    "no_criteria=grouped_data.get_group('Not Available')"
   ]
  },
  {
   "cell_type": "code",
   "execution_count": 26,
   "metadata": {},
   "outputs": [
    {
     "data": {
      "text/plain": [
       "Not Applicable    129\n",
       "Not Available      36\n",
       "Name: Patient Survey Star Rating, dtype: int64"
      ]
     },
     "execution_count": 26,
     "metadata": {},
     "output_type": "execute_result"
    }
   ],
   "source": [
    "no_criteria['Patient Survey Star Rating'].value_counts()"
   ]
  },
  {
   "cell_type": "code",
   "execution_count": 27,
   "metadata": {},
   "outputs": [
    {
     "data": {
      "text/plain": [
       "Not Available    165\n",
       "Name: Hospital overall rating, dtype: int64"
      ]
     },
     "execution_count": 27,
     "metadata": {},
     "output_type": "execute_result"
    }
   ],
   "source": [
    "no_criteria['Hospital overall rating'].value_counts()"
   ]
  },
  {
   "cell_type": "code",
   "execution_count": 29,
   "metadata": {},
   "outputs": [],
   "source": [
    "data2=pd.read_csv('C:/Users/good/Desktop/HDSC Internship/Premier Project/archive/cms_hospital_patient_satisfaction_2018.csv')"
   ]
  },
  {
   "cell_type": "code",
   "execution_count": 30,
   "metadata": {},
   "outputs": [
    {
     "data": {
      "text/plain": [
       "Y    230750\n",
       "Name: Meets criteria for promoting interoperability of EHRs, dtype: int64"
      ]
     },
     "execution_count": 30,
     "metadata": {},
     "output_type": "execute_result"
    }
   ],
   "source": [
    "del data2['County Name']\n",
    "word1 = 'Footnote'\n",
    "word2 = 'footnote'\n",
    "\n",
    "for i in data2.columns:\n",
    "    if word1 in i:\n",
    "        data2.drop(i, axis = 1, inplace= True)\n",
    "    elif word2 in i:\n",
    "        data2.drop(i, axis = 1, inplace= True)\n",
    "    else:\n",
    "        pass\n",
    "\n",
    "data2['Meets criteria for promoting interoperability of EHRs'].value_counts()"
   ]
  },
  {
   "cell_type": "code",
   "execution_count": 31,
   "metadata": {},
   "outputs": [
    {
     "data": {
      "text/plain": [
       "Not Applicable    186927\n",
       "3                  15941\n",
       "Not Available      14729\n",
       "4                  10421\n",
       "2                   6440\n",
       "5                   3439\n",
       "1                   1753\n",
       "Name: Patient Survey Star Rating, dtype: int64"
      ]
     },
     "execution_count": 31,
     "metadata": {},
     "output_type": "execute_result"
    }
   ],
   "source": [
    "data2['Patient Survey Star Rating'].value_counts()"
   ]
  },
  {
   "cell_type": "code",
   "execution_count": 32,
   "metadata": {},
   "outputs": [
    {
     "data": {
      "text/plain": [
       "3                58900\n",
       "4                57650\n",
       "Not Available    55900\n",
       "2                37500\n",
       "5                16750\n",
       "1                12950\n",
       "Name: Hospital overall rating, dtype: int64"
      ]
     },
     "execution_count": 32,
     "metadata": {},
     "output_type": "execute_result"
    }
   ],
   "source": [
    "data2['Hospital overall rating'].value_counts()"
   ]
  },
  {
   "cell_type": "code",
   "execution_count": 33,
   "metadata": {},
   "outputs": [
    {
     "name": "stderr",
     "output_type": "stream",
     "text": [
      "C:\\Users\\Dullard_boy\\.conda\\lib\\site-packages\\IPython\\core\\interactiveshell.py:3146: DtypeWarning: Columns (14,17,19,26) have mixed types.Specify dtype option on import or set low_memory=False.\n",
      "  has_raised = await self.run_ast_nodes(code_ast.body, cell_name,\n"
     ]
    },
    {
     "data": {
      "text/plain": [
       "Y    345030\n",
       "Name: Meets criteria for promoting interoperability of EHRs, dtype: int64"
      ]
     },
     "execution_count": 33,
     "metadata": {},
     "output_type": "execute_result"
    }
   ],
   "source": [
    "data3=pd.read_csv('C:/Users/good/Desktop/HDSC Internship/Premier Project/archive/cms_hospital_patient_satisfaction_2019.csv')\n",
    "del data3['County Name']\n",
    "word1 = 'Footnote'\n",
    "word2 = 'footnote'\n",
    "\n",
    "for i in data3.columns:\n",
    "    if word1 in i:\n",
    "        data3.drop(i, axis = 1, inplace= True)\n",
    "    elif word2 in i:\n",
    "        data3.drop(i, axis = 1, inplace= True)\n",
    "    else:\n",
    "        pass\n",
    "\n",
    "data3['Meets criteria for promoting interoperability of EHRs'].value_counts()"
   ]
  },
  {
   "cell_type": "code",
   "execution_count": 34,
   "metadata": {},
   "outputs": [
    {
     "data": {
      "text/plain": [
       "3                116529\n",
       "4                100719\n",
       "Not Available     98487\n",
       "2                 73563\n",
       "5                 27063\n",
       "1                 26040\n",
       "Name: Hospital overall rating, dtype: int64"
      ]
     },
     "execution_count": 34,
     "metadata": {},
     "output_type": "execute_result"
    }
   ],
   "source": [
    "data3['Hospital overall rating'].value_counts()"
   ]
  },
  {
   "cell_type": "code",
   "execution_count": 35,
   "metadata": {},
   "outputs": [
    {
     "data": {
      "text/plain": [
       "Not Applicable    390074\n",
       "Not Available      15114\n",
       "3                  13629\n",
       "4                  10985\n",
       "2                   7383\n",
       "5                   3031\n",
       "1                   2185\n",
       "Name: Patient Survey Star Rating, dtype: int64"
      ]
     },
     "execution_count": 35,
     "metadata": {},
     "output_type": "execute_result"
    }
   ],
   "source": [
    "data3['Patient Survey Star Rating'].value_counts()"
   ]
  },
  {
   "cell_type": "code",
   "execution_count": 36,
   "metadata": {},
   "outputs": [
    {
     "name": "stderr",
     "output_type": "stream",
     "text": [
      "C:\\Users\\Dullard_boy\\.conda\\lib\\site-packages\\IPython\\core\\interactiveshell.py:3146: DtypeWarning: Columns (0,14,17,19,26) have mixed types.Specify dtype option on import or set low_memory=False.\n",
      "  has_raised = await self.run_ast_nodes(code_ast.body, cell_name,\n"
     ]
    },
    {
     "data": {
      "text/plain": [
       "Y    368001\n",
       "Name: Meets criteria for promoting interoperability of EHRs, dtype: int64"
      ]
     },
     "execution_count": 36,
     "metadata": {},
     "output_type": "execute_result"
    }
   ],
   "source": [
    "data4=pd.read_csv('C:/Users/good/Desktop/HDSC Internship/Premier Project/archive/cms_hospital_patient_satisfaction_2020.csv')\n",
    "del data4['County Name']\n",
    "word1 = 'Footnote'\n",
    "word2 = 'footnote'\n",
    "\n",
    "for i in data4.columns:\n",
    "    if word1 in i:\n",
    "        data4.drop(i, axis = 1, inplace= True)\n",
    "    elif word2 in i:\n",
    "        data4.drop(i, axis = 1, inplace= True)\n",
    "    else:\n",
    "        pass\n",
    "\n",
    "data4['Meets criteria for promoting interoperability of EHRs'].value_counts()"
   ]
  },
  {
   "cell_type": "code",
   "execution_count": 37,
   "metadata": {},
   "outputs": [
    {
     "data": {
      "text/plain": [
       "Not Available    110019\n",
       "4                105648\n",
       "3                102858\n",
       "2                 65286\n",
       "5                 37851\n",
       "1                 20925\n",
       "Name: Hospital overall rating, dtype: int64"
      ]
     },
     "execution_count": 37,
     "metadata": {},
     "output_type": "execute_result"
    }
   ],
   "source": [
    "data4['Hospital overall rating'].value_counts()"
   ]
  },
  {
   "cell_type": "code",
   "execution_count": 38,
   "metadata": {},
   "outputs": [
    {
     "data": {
      "text/plain": [
       "Not Applicable    390238\n",
       "Not Available      15411\n",
       "3                  13982\n",
       "4                  10593\n",
       "2                   7240\n",
       "5                   3273\n",
       "1                   1850\n",
       "Name: Patient Survey Star Rating, dtype: int64"
      ]
     },
     "execution_count": 38,
     "metadata": {},
     "output_type": "execute_result"
    }
   ],
   "source": [
    "data4['Patient Survey Star Rating'].value_counts()"
   ]
  },
  {
   "cell_type": "code",
   "execution_count": 39,
   "metadata": {},
   "outputs": [
    {
     "data": {
      "text/plain": [
       "Y    240515\n",
       "Name: Meets criteria for promoting interoperability of EHRs, dtype: int64"
      ]
     },
     "execution_count": 39,
     "metadata": {},
     "output_type": "execute_result"
    }
   ],
   "source": [
    "data1=pd.read_csv('C:/Users/good/Desktop/HDSC Internship/Premier Project/archive/cms_hospital_patient_satisfaction_2016.csv')\n",
    "del data1['County Name']\n",
    "word1 = 'Footnote'\n",
    "word2 = 'footnote'\n",
    "\n",
    "for i in data1.columns:\n",
    "    if word1 in i:\n",
    "        data1.drop(i, axis = 1, inplace= True)\n",
    "    elif word2 in i:\n",
    "        data1.drop(i, axis = 1, inplace= True)\n",
    "    else:\n",
    "        pass\n",
    "\n",
    "data1['Meets criteria for promoting interoperability of EHRs'].value_counts()"
   ]
  },
  {
   "cell_type": "code",
   "execution_count": 40,
   "metadata": {},
   "outputs": [
    {
     "data": {
      "text/plain": [
       "Not Applicable    206701\n",
       "Not Available      15708\n",
       "4                  14165\n",
       "3                  14041\n",
       "2                   8467\n",
       "5                   3407\n",
       "1                   1896\n",
       "Name: Patient Survey Star Rating, dtype: int64"
      ]
     },
     "execution_count": 40,
     "metadata": {},
     "output_type": "execute_result"
    }
   ],
   "source": [
    "data1['Patient Survey Star Rating'].value_counts()"
   ]
  },
  {
   "cell_type": "code",
   "execution_count": 41,
   "metadata": {},
   "outputs": [
    {
     "data": {
      "text/plain": [
       "3                97570\n",
       "Not Available    67265\n",
       "4                51755\n",
       "2                37345\n",
       "1                 5940\n",
       "5                 4510\n",
       "Name: Hospital overall rating, dtype: int64"
      ]
     },
     "execution_count": 41,
     "metadata": {},
     "output_type": "execute_result"
    }
   ],
   "source": [
    "data1['Hospital overall rating'].value_counts()"
   ]
  },
  {
   "cell_type": "code",
   "execution_count": 42,
   "metadata": {},
   "outputs": [
    {
     "data": {
      "text/plain": [
       "(442401, 30)"
      ]
     },
     "execution_count": 42,
     "metadata": {},
     "output_type": "execute_result"
    }
   ],
   "source": [
    "data3.shape"
   ]
  },
  {
   "cell_type": "code",
   "execution_count": 43,
   "metadata": {},
   "outputs": [
    {
     "data": {
      "text/plain": [
       "(239650, 30)"
      ]
     },
     "execution_count": 43,
     "metadata": {},
     "output_type": "execute_result"
    }
   ],
   "source": [
    "data2.shape"
   ]
  },
  {
   "cell_type": "code",
   "execution_count": 44,
   "metadata": {},
   "outputs": [
    {
     "data": {
      "text/plain": [
       "(442587, 30)"
      ]
     },
     "execution_count": 44,
     "metadata": {},
     "output_type": "execute_result"
    }
   ],
   "source": [
    "data4.shape"
   ]
  },
  {
   "cell_type": "code",
   "execution_count": 45,
   "metadata": {},
   "outputs": [
    {
     "data": {
      "text/plain": [
       "(264385, 30)"
      ]
     },
     "execution_count": 45,
     "metadata": {},
     "output_type": "execute_result"
    }
   ],
   "source": [
    "data1.shape"
   ]
  },
  {
   "cell_type": "code",
   "execution_count": 50,
   "metadata": {},
   "outputs": [
    {
     "data": {
      "text/plain": [
       "(264660, 30)"
      ]
     },
     "execution_count": 50,
     "metadata": {},
     "output_type": "execute_result"
    }
   ],
   "source": [
    "data.shape"
   ]
  },
  {
   "cell_type": "code",
   "execution_count": 51,
   "metadata": {},
   "outputs": [],
   "source": [
    "data_2017=pd.read_csv('C:/Users/good/Desktop/HDSC Internship/Premier Project/2017cleaned.csv')"
   ]
  },
  {
   "cell_type": "code",
   "execution_count": 52,
   "metadata": {},
   "outputs": [
    {
     "data": {
      "text/plain": [
       "Y                256190\n",
       "N                  8305\n",
       "Not Available       165\n",
       "Name: Meets criteria for promoting interoperability of EHRs, dtype: int64"
      ]
     },
     "execution_count": 52,
     "metadata": {},
     "output_type": "execute_result"
    }
   ],
   "source": [
    "data_2017['Meets criteria for promoting interoperability of EHRs'].value_counts()"
   ]
  },
  {
   "cell_type": "code",
   "execution_count": 53,
   "metadata": {},
   "outputs": [],
   "source": [
    "grouped_data_2017=data_2017.groupby('Meets criteria for promoting interoperability of EHRs')\n",
    "no_criteria_2017=grouped_data_2017.get_group('N')"
   ]
  },
  {
   "cell_type": "code",
   "execution_count": 54,
   "metadata": {},
   "outputs": [
    {
     "data": {
      "text/plain": [
       "Not Available    7150\n",
       "4                 440\n",
       "3                 440\n",
       "2                 220\n",
       "5                  55\n",
       "Name: Hospital overall rating, dtype: int64"
      ]
     },
     "execution_count": 54,
     "metadata": {},
     "output_type": "execute_result"
    }
   ],
   "source": [
    "no_criteria_2017['Hospital overall rating'].value_counts()"
   ]
  },
  {
   "cell_type": "code",
   "execution_count": 55,
   "metadata": {},
   "outputs": [
    {
     "data": {
      "text/plain": [
       "Not Applicable    6493\n",
       "Not Available     1500\n",
       "5                  116\n",
       "4                  104\n",
       "3                   57\n",
       "2                   21\n",
       "1                   14\n",
       "Name: Patient Survey Star Rating, dtype: int64"
      ]
     },
     "execution_count": 55,
     "metadata": {},
     "output_type": "execute_result"
    }
   ],
   "source": [
    "no_criteria_2017['Patient Survey Star Rating'].value_counts()"
   ]
  },
  {
   "cell_type": "code",
   "execution_count": null,
   "metadata": {},
   "outputs": [],
   "source": []
  }
 ],
 "metadata": {
  "kernelspec": {
   "display_name": "Python 3",
   "language": "python",
   "name": "python3"
  },
  "language_info": {
   "codemirror_mode": {
    "name": "ipython",
    "version": 3
   },
   "file_extension": ".py",
   "mimetype": "text/x-python",
   "name": "python",
   "nbconvert_exporter": "python",
   "pygments_lexer": "ipython3",
   "version": "3.8.5"
  }
 },
 "nbformat": 4,
 "nbformat_minor": 4
}
