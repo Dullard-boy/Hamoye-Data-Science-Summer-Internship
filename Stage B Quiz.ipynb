{
 "cells": [
  {
   "cell_type": "code",
   "execution_count": 1,
   "metadata": {},
   "outputs": [],
   "source": [
    "import pandas as pd\n",
    "import numpy as np\n",
    "data=pd.read_csv('C:/Users/good/Desktop/HDSC Internship/Regression/energydata_complete.csv')"
   ]
  },
  {
   "cell_type": "code",
   "execution_count": 2,
   "metadata": {},
   "outputs": [
    {
     "data": {
      "text/plain": [
       "Index(['date', 'Appliances', 'lights', 'T1', 'RH_1', 'T2', 'RH_2', 'T3',\n",
       "       'RH_3', 'T4', 'RH_4', 'T5', 'RH_5', 'T6', 'RH_6', 'T7', 'RH_7', 'T8',\n",
       "       'RH_8', 'T9', 'RH_9', 'T_out', 'Press_mm_hg', 'RH_out', 'Windspeed',\n",
       "       'Visibility', 'Tdewpoint', 'rv1', 'rv2'],\n",
       "      dtype='object')"
      ]
     },
     "execution_count": 2,
     "metadata": {},
     "output_type": "execute_result"
    }
   ],
   "source": [
    "data.columns"
   ]
  },
  {
   "cell_type": "code",
   "execution_count": 3,
   "metadata": {},
   "outputs": [],
   "source": [
    "array1=np.array(data['T2'])\n",
    "array2=np.array(data['T6'])\n",
    "feature=array1.reshape(-1,1)\n",
    "target= array2.reshape(-1,1)\n",
    "from sklearn.model_selection import train_test_split\n",
    "x_train,x_test,y_train,y_test= train_test_split(feature, target, test_size=0.3, random_state=1)\n",
    "from sklearn.linear_model import LinearRegression\n",
    "model=LinearRegression()\n",
    "model.fit(x_train,y_train)\n",
    "predicted_values=model.predict(x_test)"
   ]
  },
  {
   "cell_type": "code",
   "execution_count": 4,
   "metadata": {},
   "outputs": [
    {
     "data": {
      "text/plain": [
       "0.645874003495721"
      ]
     },
     "execution_count": 4,
     "metadata": {},
     "output_type": "execute_result"
    }
   ],
   "source": [
    "from sklearn.metrics import r2_score\n",
    "r2_score=r2_score(y_test, predicted_values)\n",
    "r2_score"
   ]
  },
  {
   "cell_type": "code",
   "execution_count": 5,
   "metadata": {},
   "outputs": [
    {
     "data": {
      "text/plain": [
       "0.65"
      ]
     },
     "execution_count": 5,
     "metadata": {},
     "output_type": "execute_result"
    }
   ],
   "source": [
    "round(r2_score,2)"
   ]
  },
  {
   "cell_type": "code",
   "execution_count": 6,
   "metadata": {},
   "outputs": [],
   "source": [
    "del data['date']\n",
    "del data['lights']"
   ]
  },
  {
   "cell_type": "code",
   "execution_count": 7,
   "metadata": {},
   "outputs": [],
   "source": [
    "from sklearn.preprocessing import MinMaxScaler\n",
    "scaler=MinMaxScaler()\n",
    "normalized_data=pd.DataFrame(scaler.fit_transform(data), columns=data.columns)\n",
    "normalized_data.columns\n",
    "feature_df=normalized_data[['T1', 'RH_1', 'T2', 'RH_2', 'T3','RH_3', 'T4', 'RH_4', 'T5', 'RH_5', 'T6', 'RH_6', 'T7', 'RH_7', 'T8','RH_8', 'T9', 'RH_9', 'T_out', 'Press_mm_hg', 'RH_out', 'Windspeed','Visibility', 'Tdewpoint', 'rv1', 'rv2']]\n",
    "target=normalized_data['Appliances']"
   ]
  },
  {
   "cell_type": "code",
   "execution_count": 8,
   "metadata": {},
   "outputs": [],
   "source": [
    "from sklearn.model_selection import train_test_split\n",
    "x_train,x_test,y_train,y_test= train_test_split(feature_df, target, test_size=0.3, random_state=42)\n",
    "from sklearn.linear_model import LinearRegression\n",
    "model=LinearRegression()\n",
    "model.fit(x_train,y_train)\n",
    "predicted_values=model.predict(x_test)"
   ]
  },
  {
   "cell_type": "code",
   "execution_count": 9,
   "metadata": {},
   "outputs": [
    {
     "data": {
      "text/plain": [
       "0.05"
      ]
     },
     "execution_count": 9,
     "metadata": {},
     "output_type": "execute_result"
    }
   ],
   "source": [
    "#mean absolute error\n",
    "from sklearn.metrics import mean_absolute_error\n",
    "mae= mean_absolute_error(y_test,predicted_values)\n",
    "round(mae, 2)"
   ]
  },
  {
   "cell_type": "code",
   "execution_count": 10,
   "metadata": {},
   "outputs": [
    {
     "data": {
      "text/plain": [
       "45.35"
      ]
     },
     "execution_count": 10,
     "metadata": {},
     "output_type": "execute_result"
    }
   ],
   "source": [
    "#residual sum of squares\n",
    "import numpy as np\n",
    "rss=np.sum(np.square(y_test-predicted_values))\n",
    "round(rss, 2)"
   ]
  },
  {
   "cell_type": "code",
   "execution_count": 11,
   "metadata": {},
   "outputs": [
    {
     "data": {
      "text/plain": [
       "0.088"
      ]
     },
     "execution_count": 11,
     "metadata": {},
     "output_type": "execute_result"
    }
   ],
   "source": [
    "#root mean square error\n",
    "from sklearn.metrics import mean_squared_error\n",
    "rmse=np.sqrt(mean_squared_error(y_test,predicted_values))\n",
    "round(rmse, 3)"
   ]
  },
  {
   "cell_type": "code",
   "execution_count": 12,
   "metadata": {},
   "outputs": [
    {
     "data": {
      "text/plain": [
       "0.15"
      ]
     },
     "execution_count": 12,
     "metadata": {},
     "output_type": "execute_result"
    }
   ],
   "source": [
    "#r-square\n",
    "from sklearn.metrics import r2_score\n",
    "r2_score=r2_score(y_test, predicted_values)\n",
    "round(r2_score,2)"
   ]
  },
  {
   "cell_type": "code",
   "execution_count": 13,
   "metadata": {},
   "outputs": [
    {
     "data": {
      "text/plain": [
       "Lasso(alpha=0.001)"
      ]
     },
     "execution_count": 13,
     "metadata": {},
     "output_type": "execute_result"
    }
   ],
   "source": [
    "from sklearn.linear_model import Ridge\n",
    "ridge_reg=Ridge(alpha=0.5)\n",
    "ridge_reg.fit(x_train,y_train)\n",
    "from sklearn.linear_model import Lasso\n",
    "lasso_reg=Lasso(0.001)\n",
    "lasso_reg.fit(x_train,y_train)"
   ]
  },
  {
   "cell_type": "code",
   "execution_count": 14,
   "metadata": {},
   "outputs": [],
   "source": [
    "def get_weights_df(model, feat, col_name):\n",
    "    weights = pd.Series(model.coef_, feat.columns).sort_values()\n",
    "    weights_df=pd.DataFrame(weights).reset_index()\n",
    "    weights_df.columns= ['Features', col_name]\n",
    "    weights_df[col_name].round(3)\n",
    "    return weights_df"
   ]
  },
  {
   "cell_type": "code",
   "execution_count": 15,
   "metadata": {},
   "outputs": [],
   "source": [
    "linear_model_weights= get_weights_df(model, x_train, 'Linear_Model_Weights')\n",
    "ridge_weights=get_weights_df(ridge_reg, x_train, 'Ridge_Weights')\n",
    "lasso_weights=get_weights_df(lasso_reg, x_train, 'Lasso_Weights')\n",
    "final_weights=pd.merge(linear_model_weights, ridge_weights, on='Features')\n",
    "final_weights=pd.merge(final_weights, lasso_weights, on='Features')"
   ]
  },
  {
   "cell_type": "code",
   "execution_count": 16,
   "metadata": {},
   "outputs": [
    {
     "data": {
      "text/html": [
       "<div>\n",
       "<style scoped>\n",
       "    .dataframe tbody tr th:only-of-type {\n",
       "        vertical-align: middle;\n",
       "    }\n",
       "\n",
       "    .dataframe tbody tr th {\n",
       "        vertical-align: top;\n",
       "    }\n",
       "\n",
       "    .dataframe thead th {\n",
       "        text-align: right;\n",
       "    }\n",
       "</style>\n",
       "<table border=\"1\" class=\"dataframe\">\n",
       "  <thead>\n",
       "    <tr style=\"text-align: right;\">\n",
       "      <th></th>\n",
       "      <th>Features</th>\n",
       "      <th>Linear_Model_Weights</th>\n",
       "      <th>Ridge_Weights</th>\n",
       "      <th>Lasso_Weights</th>\n",
       "    </tr>\n",
       "  </thead>\n",
       "  <tbody>\n",
       "    <tr>\n",
       "      <th>0</th>\n",
       "      <td>RH_2</td>\n",
       "      <td>-0.456698</td>\n",
       "      <td>-0.401134</td>\n",
       "      <td>-0.000000</td>\n",
       "    </tr>\n",
       "    <tr>\n",
       "      <th>1</th>\n",
       "      <td>T_out</td>\n",
       "      <td>-0.321860</td>\n",
       "      <td>-0.250765</td>\n",
       "      <td>0.000000</td>\n",
       "    </tr>\n",
       "    <tr>\n",
       "      <th>2</th>\n",
       "      <td>T2</td>\n",
       "      <td>-0.236178</td>\n",
       "      <td>-0.193880</td>\n",
       "      <td>0.000000</td>\n",
       "    </tr>\n",
       "    <tr>\n",
       "      <th>3</th>\n",
       "      <td>T9</td>\n",
       "      <td>-0.189941</td>\n",
       "      <td>-0.188584</td>\n",
       "      <td>-0.000000</td>\n",
       "    </tr>\n",
       "    <tr>\n",
       "      <th>4</th>\n",
       "      <td>RH_8</td>\n",
       "      <td>-0.157595</td>\n",
       "      <td>-0.156596</td>\n",
       "      <td>-0.000110</td>\n",
       "    </tr>\n",
       "    <tr>\n",
       "      <th>5</th>\n",
       "      <td>RH_out</td>\n",
       "      <td>-0.077671</td>\n",
       "      <td>-0.050541</td>\n",
       "      <td>-0.049557</td>\n",
       "    </tr>\n",
       "    <tr>\n",
       "      <th>6</th>\n",
       "      <td>RH_7</td>\n",
       "      <td>-0.044614</td>\n",
       "      <td>-0.046291</td>\n",
       "      <td>-0.000000</td>\n",
       "    </tr>\n",
       "    <tr>\n",
       "      <th>7</th>\n",
       "      <td>RH_9</td>\n",
       "      <td>-0.039800</td>\n",
       "      <td>-0.041701</td>\n",
       "      <td>-0.000000</td>\n",
       "    </tr>\n",
       "    <tr>\n",
       "      <th>8</th>\n",
       "      <td>T5</td>\n",
       "      <td>-0.015657</td>\n",
       "      <td>-0.020727</td>\n",
       "      <td>-0.000000</td>\n",
       "    </tr>\n",
       "    <tr>\n",
       "      <th>9</th>\n",
       "      <td>T1</td>\n",
       "      <td>-0.003281</td>\n",
       "      <td>-0.021549</td>\n",
       "      <td>0.000000</td>\n",
       "    </tr>\n",
       "    <tr>\n",
       "      <th>10</th>\n",
       "      <td>rv1</td>\n",
       "      <td>0.000770</td>\n",
       "      <td>0.000743</td>\n",
       "      <td>-0.000000</td>\n",
       "    </tr>\n",
       "    <tr>\n",
       "      <th>11</th>\n",
       "      <td>rv2</td>\n",
       "      <td>0.000770</td>\n",
       "      <td>0.000743</td>\n",
       "      <td>-0.000000</td>\n",
       "    </tr>\n",
       "    <tr>\n",
       "      <th>12</th>\n",
       "      <td>Press_mm_hg</td>\n",
       "      <td>0.006839</td>\n",
       "      <td>0.006516</td>\n",
       "      <td>-0.000000</td>\n",
       "    </tr>\n",
       "    <tr>\n",
       "      <th>13</th>\n",
       "      <td>T7</td>\n",
       "      <td>0.010319</td>\n",
       "      <td>0.010021</td>\n",
       "      <td>-0.000000</td>\n",
       "    </tr>\n",
       "    <tr>\n",
       "      <th>14</th>\n",
       "      <td>Visibility</td>\n",
       "      <td>0.012307</td>\n",
       "      <td>0.012032</td>\n",
       "      <td>0.000000</td>\n",
       "    </tr>\n",
       "    <tr>\n",
       "      <th>15</th>\n",
       "      <td>RH_5</td>\n",
       "      <td>0.016006</td>\n",
       "      <td>0.016176</td>\n",
       "      <td>0.000000</td>\n",
       "    </tr>\n",
       "    <tr>\n",
       "      <th>16</th>\n",
       "      <td>RH_4</td>\n",
       "      <td>0.026386</td>\n",
       "      <td>0.024168</td>\n",
       "      <td>0.000000</td>\n",
       "    </tr>\n",
       "    <tr>\n",
       "      <th>17</th>\n",
       "      <td>T4</td>\n",
       "      <td>0.028981</td>\n",
       "      <td>0.027006</td>\n",
       "      <td>-0.000000</td>\n",
       "    </tr>\n",
       "    <tr>\n",
       "      <th>18</th>\n",
       "      <td>Windspeed</td>\n",
       "      <td>0.029183</td>\n",
       "      <td>0.030463</td>\n",
       "      <td>0.002912</td>\n",
       "    </tr>\n",
       "    <tr>\n",
       "      <th>19</th>\n",
       "      <td>RH_6</td>\n",
       "      <td>0.038049</td>\n",
       "      <td>0.035023</td>\n",
       "      <td>-0.000000</td>\n",
       "    </tr>\n",
       "    <tr>\n",
       "      <th>20</th>\n",
       "      <td>RH_3</td>\n",
       "      <td>0.096048</td>\n",
       "      <td>0.094976</td>\n",
       "      <td>0.000000</td>\n",
       "    </tr>\n",
       "    <tr>\n",
       "      <th>21</th>\n",
       "      <td>T8</td>\n",
       "      <td>0.101995</td>\n",
       "      <td>0.100754</td>\n",
       "      <td>0.000000</td>\n",
       "    </tr>\n",
       "    <tr>\n",
       "      <th>22</th>\n",
       "      <td>Tdewpoint</td>\n",
       "      <td>0.117758</td>\n",
       "      <td>0.076668</td>\n",
       "      <td>0.000000</td>\n",
       "    </tr>\n",
       "    <tr>\n",
       "      <th>23</th>\n",
       "      <td>T6</td>\n",
       "      <td>0.236425</td>\n",
       "      <td>0.213316</td>\n",
       "      <td>0.000000</td>\n",
       "    </tr>\n",
       "    <tr>\n",
       "      <th>24</th>\n",
       "      <td>T3</td>\n",
       "      <td>0.290627</td>\n",
       "      <td>0.287408</td>\n",
       "      <td>0.000000</td>\n",
       "    </tr>\n",
       "    <tr>\n",
       "      <th>25</th>\n",
       "      <td>RH_1</td>\n",
       "      <td>0.553547</td>\n",
       "      <td>0.511932</td>\n",
       "      <td>0.017880</td>\n",
       "    </tr>\n",
       "  </tbody>\n",
       "</table>\n",
       "</div>"
      ],
      "text/plain": [
       "       Features  Linear_Model_Weights  Ridge_Weights  Lasso_Weights\n",
       "0          RH_2             -0.456698      -0.401134      -0.000000\n",
       "1         T_out             -0.321860      -0.250765       0.000000\n",
       "2            T2             -0.236178      -0.193880       0.000000\n",
       "3            T9             -0.189941      -0.188584      -0.000000\n",
       "4          RH_8             -0.157595      -0.156596      -0.000110\n",
       "5        RH_out             -0.077671      -0.050541      -0.049557\n",
       "6          RH_7             -0.044614      -0.046291      -0.000000\n",
       "7          RH_9             -0.039800      -0.041701      -0.000000\n",
       "8            T5             -0.015657      -0.020727      -0.000000\n",
       "9            T1             -0.003281      -0.021549       0.000000\n",
       "10          rv1              0.000770       0.000743      -0.000000\n",
       "11          rv2              0.000770       0.000743      -0.000000\n",
       "12  Press_mm_hg              0.006839       0.006516      -0.000000\n",
       "13           T7              0.010319       0.010021      -0.000000\n",
       "14   Visibility              0.012307       0.012032       0.000000\n",
       "15         RH_5              0.016006       0.016176       0.000000\n",
       "16         RH_4              0.026386       0.024168       0.000000\n",
       "17           T4              0.028981       0.027006      -0.000000\n",
       "18    Windspeed              0.029183       0.030463       0.002912\n",
       "19         RH_6              0.038049       0.035023      -0.000000\n",
       "20         RH_3              0.096048       0.094976       0.000000\n",
       "21           T8              0.101995       0.100754       0.000000\n",
       "22    Tdewpoint              0.117758       0.076668       0.000000\n",
       "23           T6              0.236425       0.213316       0.000000\n",
       "24           T3              0.290627       0.287408       0.000000\n",
       "25         RH_1              0.553547       0.511932       0.017880"
      ]
     },
     "execution_count": 16,
     "metadata": {},
     "output_type": "execute_result"
    }
   ],
   "source": [
    "final_weights"
   ]
  },
  {
   "cell_type": "code",
   "execution_count": 17,
   "metadata": {},
   "outputs": [
    {
     "data": {
      "text/plain": [
       "0.088"
      ]
     },
     "execution_count": 17,
     "metadata": {},
     "output_type": "execute_result"
    }
   ],
   "source": [
    "ridge_predicted_values=ridge_reg.predict(x_test)\n",
    "rmse=np.sqrt(mean_squared_error(y_test,ridge_predicted_values))\n",
    "rmse\n",
    "round(rmse,3)"
   ]
  },
  {
   "cell_type": "code",
   "execution_count": 18,
   "metadata": {},
   "outputs": [
    {
     "data": {
      "text/plain": [
       "0.094"
      ]
     },
     "execution_count": 18,
     "metadata": {},
     "output_type": "execute_result"
    }
   ],
   "source": [
    "lasso_predicted_values=lasso_reg.predict(x_test)\n",
    "rmse=np.sqrt(mean_squared_error(y_test,lasso_predicted_values))\n",
    "round(rmse,3)"
   ]
  },
  {
   "cell_type": "code",
   "execution_count": null,
   "metadata": {},
   "outputs": [],
   "source": []
  }
 ],
 "metadata": {
  "kernelspec": {
   "display_name": "Python 3",
   "language": "python",
   "name": "python3"
  },
  "language_info": {
   "codemirror_mode": {
    "name": "ipython",
    "version": 3
   },
   "file_extension": ".py",
   "mimetype": "text/x-python",
   "name": "python",
   "nbconvert_exporter": "python",
   "pygments_lexer": "ipython3",
   "version": "3.8.5"
  }
 },
 "nbformat": 4,
 "nbformat_minor": 4
}
